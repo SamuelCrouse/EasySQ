{
 "cells": [
  {
   "cell_type": "markdown",
   "id": "ada7b78e-9eb2-428d-aa6e-fd545371d6a2",
   "metadata": {},
   "source": [
    "# EasySQ Installation and Setup\n",
    "\n",
    "This notebook will walk you through how to install EasySQ from the github onto your IDE.<br>\n",
    "If you are using PyCharm, follow the <i>PyCharm install guide.docx</i> located in the github repo. Otherwise, setup your IDE how you would like and then come back here.<br>\n",
    "Once you have setup your IDE and run a \"Hello World\" script to make sure things are working, you are now ready to begin EasySQ installation.<br>\n",
    "\n",
    "#### Step 1 Getting from the GitHub.\n",
    "\n",
    "We are going to download the repo as a .zip and place the files into the project manually.<br>\n",
    "First, download the repo and unzip it.<br>\n",
    "Secondly, place the following files into your project:<br>\n",
    "<ol>\n",
    "    <li><code>EasySQ.py</code></li>\n",
    "    <li><code>EasySQTools.py</code></li>\n",
    "    <li>Place the directory called <code>colors</code> into your project. This contains the color palettes for use in the demos. If you don't, you will need to make a directory and avoid using the provided palettes.</li>\n",
    "    <li><code>requirements.txt</code> PyCharm will recognize this and ask to import the required packages. If your IDE does not, or PyCharm does not, please install these manually.</li>\n",
    "</ol>\n",
    "\n",
    "If this is your first time, I would also recommend:\n",
    "<ol>\n",
    "    <li><code>demo_1.py</code></li> for learning and working with EasySQ as it follows the Squidpy demos.\n",
    "    <li><code>demo_2.py</code></li>\n",
    "    <li><code>DisplayPalette.py</code></li> for showing the available color palettes.\n",
    "</ol>"
   ]
  },
  {
   "cell_type": "markdown",
   "id": "efb0cc5e-b2fd-4efb-bc6e-9d3a29e0bb15",
   "metadata": {},
   "source": [
    "#### Step 2 Running the Demos. (optional)\n",
    "\n",
    "If you are new to EasySQ or Squidpy I would recommend looking through demos provided in the repo and by Squidpy. This will help things make sense when you try to make your own project.<br>\n",
    "Start with <code>EasySQ Demo 1.ipynb</code> and then do <code>EasySQ Demo 2.ipynb</code>. These follow the linked Squidpy demos.\n",
    "Once that is complete, I would recommend looking at the Squidpy Interface demo (once its completed), to see how to use EasySQ and Squidpy together."
   ]
  },
  {
   "cell_type": "markdown",
   "id": "ee462930-8cc6-42de-ad65-0e215ee2bb6f",
   "metadata": {},
   "source": [
    "#### Step 3 Creating you own project.\n",
    "\n",
    "Once you feel confident enough to create your own project, all you have to do is:<br>\n",
    "<ol>\n",
    "    <li><code>import EasySQ as esq</code></li>\n",
    "    <li><code>if __name__ == \"__main__\":</code></li> EasySQ must be called from this if for some Squidpy functions to work.\n",
    "    <li><code>esqAn = esq.Analysis(data_path='path/to/my/data/')</code></li> create a new Analysis class object and provide it a path to the directory for your data.\n",
    "</ol>\n",
    "\n",
    "And that's it! You can now start your EasySQ workflow."
   ]
  },
  {
   "cell_type": "code",
   "execution_count": null,
   "id": "5b238f26-c8f0-4bd3-b6b6-d26dddb31a23",
   "metadata": {},
   "outputs": [],
   "source": []
  }
 ],
 "metadata": {
  "kernelspec": {
   "display_name": "Python 3 (ipykernel)",
   "language": "python",
   "name": "python3"
  },
  "language_info": {
   "codemirror_mode": {
    "name": "ipython",
    "version": 3
   },
   "file_extension": ".py",
   "mimetype": "text/x-python",
   "name": "python",
   "nbconvert_exporter": "python",
   "pygments_lexer": "ipython3",
   "version": "3.10.9"
  }
 },
 "nbformat": 4,
 "nbformat_minor": 5
}
